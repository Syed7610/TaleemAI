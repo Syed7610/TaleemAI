{
 "cells": [
  {
   "cell_type": "code",
   "execution_count": null,
   "id": "be895b89",
   "metadata": {},
   "outputs": [],
   "source": [
    "# Translation module demo (English -> Urdu) using Hugging Face\n",
    "try:\n",
    "    from transformers import pipeline\n",
    "    translator = pipeline('translation_en_to_hi', model='Helsinki-NLP/opus-mt-en-ur')\n",
    "    samples = ['Explain fractions with a simple example.', 'What is a linear equation?']\n",
    "    outs = translator(samples, max_length=200)\n",
    "    ur_texts = [o.get('translation_text','') for o in outs]\n",
    "    for i,(s,t) in enumerate(zip(samples, ur_texts)):\n",
    "        print(i+1, 'EN:', s)\n",
    "        print('   UR:', t)\n",
    "except Exception as e:\n",
    "    print('Transformer model not available in this environment. Showing placeholder Urdu text.')\n",
    "    samples = ['Explain fractions with a simple example.', 'What is a linear equation?']\n",
    "    for s in samples:\n",
    "        print('EN:', s)\n",
    "        print('UR: (اردو) ' + s)\n"
   ]
  }
 ],
 "metadata": {},
 "nbformat": 4,
 "nbformat_minor": 5
}