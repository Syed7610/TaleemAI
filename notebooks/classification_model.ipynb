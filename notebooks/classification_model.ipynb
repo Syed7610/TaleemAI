# =============================
# ✅ TaleemAI  
# This code is ready to execute in a Python environment or a single Jupyter cell.
# =============================

# 1️⃣ Install dependencies (uncomment if running in an environment without them)
# !pip install pandas numpy scikit-learn matplotlib seaborn --quiet

# 2️⃣ Import libraries
import pandas as pd
import numpy as np
import matplotlib.pyplot as plt
import seaborn as sns
from sklearn.model_selection import train_test_split
from sklearn.preprocessing import LabelEncoder
from sklearn.ensemble import RandomForestClassifier
from sklearn.metrics import classification_report, confusion_matrix, accuracy_score

# 3️⃣ Create a balanced sample dataset
np.random.seed(42)
num_samples = 200

data = {
    'gender': np.random.choice(['Male', 'Female'], num_samples),
    'country': np.random.choice(['Pakistan', 'India', 'Bangladesh', 'Nepal'], num_samples),
    'age': np.random.randint(16, 22, num_samples),
    'study_hours': np.random.uniform(1, 10, num_samples).round(2),
    'attendance': np.random.uniform(60, 100, num_samples).round(2),
    'final_grade': np.random.choice(['Pass', 'Fail'], num_samples, p=[0.7, 0.3])
}

df = pd.DataFrame(data)
print("✅ Sample dataset created successfully!")
print(df.head())

# 4️⃣ Encode categorical columns
le = LabelEncoder()
df['gender'] = le.fit_transform(df['gender'])
df['country'] = le.fit_transform(df['country'])
df['final_grade'] = le.fit_transform(df['final_grade']) # 'Pass' will be 1, 'Fail' will be 0 (or vice-versa depending on lexical order)

# 5️⃣ Split data
X = df.drop('final_grade', axis=1)
y = df['final_grade']
X_train, X_test, y_train, y_test = train_test_split(X, y, test_size=0.2, random_state=42, stratify=y)

# 6️⃣ Train model
model = RandomForestClassifier(n_estimators=100, random_state=42)
model.fit(X_train, y_train)

# 7️⃣ Evaluate
y_pred = model.predict(X_test)
acc = accuracy_score(y_test, y_pred)

print(f"\n✅ Model Accuracy: {acc*100:.2f}%\n")
print("Classification Report:\n", classification_report(y_test, y_pred))

# 8️⃣ Visualize Confusion Matrix
plt.figure(figsize=(5,4))
sns.heatmap(confusion_matrix(y_test, y_pred), annot=True, fmt='d', cmap='Blues')
plt.title("Confusion Matrix")
plt.xlabel("Predicted")
plt.ylabel("Actual")
plt.show()