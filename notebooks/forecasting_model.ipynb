{
  "nbformat": 4,
  "nbformat_minor": 0,
  "metadata": {
    "colab": {
      "provenance": []
    },
    "kernelspec": {
      "name": "python3",
      "display_name": "Python 3"
    },
    "language_info": {
      "name": "python"
    }
  },
  "cells": [
    {
      "cell_type": "code",
      "source": [
        "# =============================\n",
        "# ✅ TaleemAI — Self-Running Notebook (No Upload Needed)\n",
        "# This code is ready to execute in a Python environment or a single Jupyter cell.\n",
        "# =============================\n",
        "\n",
        "# 1️⃣ Install dependencies (uncomment if running in an environment without them)\n",
        "# !pip install pandas numpy scikit-learn matplotlib seaborn --quiet\n",
        "\n",
        "# 2️⃣ Import libraries\n",
        "import pandas as pd\n",
        "import numpy as np\n",
        "import matplotlib.pyplot as plt\n",
        "import seaborn as sns\n",
        "from sklearn.model_selection import train_test_split\n",
        "from sklearn.preprocessing import LabelEncoder\n",
        "from sklearn.ensemble import RandomForestClassifier\n",
        "from sklearn.metrics import classification_report, confusion_matrix, accuracy_score\n",
        "\n",
        "# 3️⃣ Create a balanced sample dataset\n",
        "np.random.seed(42)\n",
        "num_samples = 200\n",
        "\n",
        "data = {\n",
        "    'gender': np.random.choice(['Male', 'Female'], num_samples),\n",
        "    'country': np.random.choice(['Pakistan', 'India', 'Bangladesh', 'Nepal'], num_samples),\n",
        "    'age': np.random.randint(16, 22, num_samples),\n",
        "    'study_hours': np.random.uniform(1, 10, num_samples).round(2),\n",
        "    'attendance': np.random.uniform(60, 100, num_samples).round(2),\n",
        "    'final_grade': np.random.choice(['Pass', 'Fail'], num_samples, p=[0.7, 0.3])\n",
        "}\n",
        "\n",
        "df = pd.DataFrame(data)\n",
        "print(\"✅ Sample dataset created successfully!\")\n",
        "print(df.head())\n",
        "\n",
        "# 4️⃣ Encode categorical columns\n",
        "le = LabelEncoder()\n",
        "df['gender'] = le.fit_transform(df['gender'])\n",
        "df['country'] = le.fit_transform(df['country'])\n",
        "df['final_grade'] = le.fit_transform(df['final_grade']) # 'Pass' will be 1, 'Fail' will be 0 (or vice-versa depending on lexical order)\n",
        "\n",
        "# 5️⃣ Split data\n",
        "X = df.drop('final_grade', axis=1)\n",
        "y = df['final_grade']\n",
        "X_train, X_test, y_train, y_test = train_test_split(X, y, test_size=0.2, random_state=42, stratify=y)\n",
        "\n",
        "# 6️⃣ Train model\n",
        "model = RandomForestClassifier(n_estimators=100, random_state=42)\n",
        "model.fit(X_train, y_train)\n",
        "\n",
        "# 7️⃣ Evaluate\n",
        "y_pred = model.predict(X_test)\n",
        "acc = accuracy_score(y_test, y_pred)\n",
        "\n",
        "print(f\"\\n✅ Model Accuracy: {acc*100:.2f}%\\n\")\n",
        "print(\"Classification Report:\\n\", classification_report(y_test, y_pred))\n",
        "\n",
        "# 8️⃣ Visualize Confusion Matrix\n",
        "plt.figure(figsize=(5,4))\n",
        "sns.heatmap(confusion_matrix(y_test, y_pred), annot=True, fmt='d', cmap='Blues')\n",
        "plt.title(\"Confusion Matrix\")\n",
        "plt.xlabel(\"Predicted\")\n",
        "plt.ylabel(\"Actual\")\n",
        "plt.show()"
      ],
      "metadata": {
        "colab": {
          "base_uri": "https://localhost:8080/",
          "height": 775
        },
        "id": "H_wJGgVUHVWR",
        "outputId": "b79b0d4d-e998-477b-a235-ad73501f6b80"
      },
      "execution_count": 4,
      "outputs": [
        {
          "output_type": "stream",
          "name": "stdout",
          "text": [
            "✅ Sample dataset created successfully!\n",
            "   gender     country  age  study_hours  attendance final_grade\n",
            "0    Male  Bangladesh   19         9.82       75.11        Pass\n",
            "1  Female       Nepal   18         2.58       69.64        Pass\n",
            "2    Male  Bangladesh   16         1.15       68.20        Fail\n",
            "3    Male    Pakistan   19         7.87       70.06        Fail\n",
            "4    Male       Nepal   21         8.26       70.99        Pass\n",
            "\n",
            "✅ Model Accuracy: 57.50%\n",
            "\n",
            "Classification Report:\n",
            "               precision    recall  f1-score   support\n",
            "\n",
            "           0       0.17      0.08      0.11        13\n",
            "           1       0.65      0.81      0.72        27\n",
            "\n",
            "    accuracy                           0.57        40\n",
            "   macro avg       0.41      0.45      0.41        40\n",
            "weighted avg       0.49      0.57      0.52        40\n",
            "\n"
          ]
        },
        {
          "output_type": "display_data",
          "data": {
            "text/plain": [
              "<Figure size 500x400 with 2 Axes>"
            ],
            "image/png": "[encoded data removed]"
          },
          "metadata": {}
        }
      ]
    }
  ]
}