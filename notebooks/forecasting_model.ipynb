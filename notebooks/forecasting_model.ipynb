{
 "cells": [
  {
   "cell_type": "code",
   "execution_count": null,
   "id": "f211badb",
   "metadata": {},
   "outputs": [],
   "source": [
    "# Forecasting demo (simple per-student trend forecast)\n",
    "import pandas as pd\n",
    "import numpy as np\n",
    "from sklearn.linear_model import LinearRegression\n",
    "import matplotlib.pyplot as plt\n",
    "df = pd.read_csv('data/student_performance.csv')\n",
    "# compute average score per student-like id by creating synthetic student ids\n",
    "df = df.copy()\n",
    "df['student_id'] = (df.index // 3).astype(str)\n",
    "agg = df.groupby('student_id')['math score'].mean().reset_index()\n",
    "# simple linear regression predicting the same mean (demo)\n",
    "X = np.arange(len(agg)).reshape(-1,1)\n",
    "y = agg['math score'].values\n",
    "model = LinearRegression().fit(X,y)\n",
    "pred = model.predict(X)\n",
    "plt.figure(figsize=(8,4)); plt.plot(X.flatten(), y, label='actual'); plt.plot(X.flatten(), pred, label='pred'); plt.legend()\n",
    "plt.title('Simple Forecast (demo)')\n",
    "plt.savefig('results/forecast_demo.png', bbox_inches='tight')\n",
    "plt.close()\n",
    "# save results CSV\n",
    "agg['predicted'] = pred\n",
    "agg.to_csv('results/forecast_results.csv', index=False)\n",
    "print('Forecast results saved to results/forecast_results.csv')\n"
   ]
  }
 ],
 "metadata": {},
 "nbformat": 4,
 "nbformat_minor": 5
}