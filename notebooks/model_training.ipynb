{
 "cells": [
  {
   "cell_type": "code",
   "execution_count": null,
   "id": "5d01a7dd",
   "metadata": {},
   "outputs": [],
   "source": [
    "# Central training pipeline - runs classification and forecasting notebooks\n",
    "# This notebook is a wrapper that imports training functions or runs steps directly.\n",
    "# For simplicity in the Colab demo, re-run key steps here.\n",
    "\n",
    "import subprocess, sys\n",
    "# Run classification and forecasting cells (you can also import functions)\n",
    "print('Running classification model notebook (demo)...')\n",
    "# In a notebook environment you could use nbconvert execution; here, just indicate to run manually as needed.\n",
    "print('Please run the classification_model and forecasting_model notebooks to train models and generate artifacts, or use the provided pipeline scripts.')\n"
   ]
  }
 ],
 "metadata": {},
 "nbformat": 4,
 "nbformat_minor": 5
}