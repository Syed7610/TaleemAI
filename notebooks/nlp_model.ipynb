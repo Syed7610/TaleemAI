{
 "cells": [
  {
   "cell_type": "code",
   "execution_count": null,
   "id": "35f1d6ef",
   "metadata": {},
   "outputs": [],
   "source": [
    "# NLP demo (token counts & simple Urdu normalization)\n",
    "import pandas as pd\n",
    "df = pd.read_csv('data/student_performance.csv')\n",
    "# example text creation\n",
    "df['lesson_text'] = df['parental level of education'].astype(str).apply(lambda s: 'تعلیم ' + s if s else 'تعلیم')\n",
    "df['token_count'] = df['lesson_text'].str.split().apply(len)\n",
    "df[['lesson_text','token_count']].head()\n",
    "df.to_csv('results/nlp_preview.csv', index=False)\n",
    "print('NLP preview saved to results/nlp_preview.csv')\n"
   ]
  }
 ],
 "metadata": {},
 "nbformat": 4,
 "nbformat_minor": 5
}